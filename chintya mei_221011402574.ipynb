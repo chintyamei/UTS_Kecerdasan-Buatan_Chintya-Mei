{
 "cells": [
  {
   "cell_type": "code",
   "execution_count": 47,
   "id": "6032fe99-f3fe-476a-8d32-fcda13575a5b",
   "metadata": {},
   "outputs": [],
   "source": [
    "#Data\n",
    "\n",
    "company_detail_list = [\n",
    "    {\n",
    "        'name': 'Company 1',\n",
    "        'domain': 'Retail',\n",
    "        'country': 'United States'\n",
    "    },\n",
    "    {\n",
    "        'name': 'Company 2',\n",
    "        'domain': 'Technology',\n",
    "        'country': 'United Kingdom'\n",
    "    },\n",
    "    {\n",
    "        'name': 'Company 3',\n",
    "        'domain': 'Healthcare',\n",
    "        'country': 'United States'\n",
    "    }\n",
    "]\n",
    "\n",
    "employee_detail_list = [\n",
    "    {\n",
    "        'name': 'EMP-0001',\n",
    "        'first_name': 'John',\n",
    "        'last_name': 'Doe',\n",
    "        'full_name': 'John Doe',\n",
    "        'company': 'Company 1',\n",
    "        'nationality': 'Australia'\n",
    "    },\n",
    "    {\n",
    "        'name': 'EMP-0002',\n",
    "        'first_name': 'Tom',\n",
    "        'last_name': 'Smith',\n",
    "        'full_name': 'Tom Smith',\n",
    "        'company': 'Company 2',\n",
    "        'nationality': 'United States'\n",
    "    },\n",
    "    {\n",
    "        'name': 'EMP-0003',\n",
    "        'first_name': 'Andrew',\n",
    "        'last_name': 'Sebastian',\n",
    "        'full_name': 'Andrew Sebastian',\n",
    "        'company': 'Company 3',\n",
    "        'nationality': 'United States'\n",
    "    },\n",
    "    {\n",
    "        'name': 'EMP-0005',\n",
    "        'fisrt_name': 'Ying Han',\n",
    "        'last_name': 'Tan',\n",
    "        'full_name': 'Ying Han Tan',\n",
    "        'company': 'Company 1',\n",
    "        'nationality': 'Australia'\n",
    "    },\n",
    "    {\n",
    "        'name': 'EMP-0015',\n",
    "        'first_name': 'Kenneth',\n",
    "        'last_name': 'Ng',\n",
    "        'full_name': 'Kenneth Ng',\n",
    "        'company': 'Company 3',\n",
    "        'nationality': 'United States'\n",
    "    },\n",
    "    {\n",
    "        'name': 'EMP-0018',\n",
    "        'first_name': 'Rubby',\n",
    "        'last_name': 'Lee',\n",
    "        'full_name': 'Rubby Lee',\n",
    "        'company': 'Company 2',\n",
    "        'nationality': 'Hong Kong'\n",
    "    },\n",
    "    {\n",
    "        'name': 'EMP-0017',\n",
    "        'first_name': 'Robert',\n",
    "        'last_name': 'White',\n",
    "        'full_name': 'Robert White',\n",
    "        'company': 'Company 1',\n",
    "        'nationality': 'United Kingdom'\n",
    "    }\n",
    "]\n",
    "        \n",
    "        \n",
    "        "
   ]
  },
  {
   "cell_type": "code",
   "execution_count": 48,
   "id": "3463a854-6e3c-49a1-b1b6-a59542e2fc7f",
   "metadata": {},
   "outputs": [
    {
     "name": "stdout",
     "output_type": "stream",
     "text": [
      "[{'name': 'Company 3'}, {'name': 'Company 2'}, {'name': 'Company 1'}]\n"
     ]
    }
   ],
   "source": [
    "sorted_companies = sorted(\n",
    "    [{'name': company['name']} for company in company_detail_list],\n",
    "    key=lambda x: x['name'],\n",
    "    reverse=True\n",
    ")\n",
    "\n",
    "print(sorted_companies)"
   ]
  },
  {
   "cell_type": "code",
   "execution_count": 49,
   "id": "8352a266-3fb2-4cb1-9485-4f2f15253684",
   "metadata": {},
   "outputs": [
    {
     "name": "stdout",
     "output_type": "stream",
     "text": [
      "Company 1: Retail (United States)\n",
      "Company 2: Technology (United Kingdom)\n",
      "Company 3: Healthcare (United States)\n"
     ]
    }
   ],
   "source": [
    "for company in company_detail_list:\n",
    "    print(f\"{company['name']}: {company['domain']} ({company['country']})\")"
   ]
  }
 ],
 "metadata": {
  "kernelspec": {
   "display_name": "Python 3 (ipykernel)",
   "language": "python",
   "name": "python3"
  },
  "language_info": {
   "codemirror_mode": {
    "name": "ipython",
    "version": 3
   },
   "file_extension": ".py",
   "mimetype": "text/x-python",
   "name": "python",
   "nbconvert_exporter": "python",
   "pygments_lexer": "ipython3",
   "version": "3.12.1"
  }
 },
 "nbformat": 4,
 "nbformat_minor": 5
}
